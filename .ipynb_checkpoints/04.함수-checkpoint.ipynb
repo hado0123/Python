{
 "cells": [
  {
   "cell_type": "markdown",
   "id": "376f66f0-95be-495a-8ccd-3c02473a43c6",
   "metadata": {},
   "source": [
    "### 1. 함수의 정의와 사용"
   ]
  },
  {
   "cell_type": "code",
   "execution_count": 5,
   "id": "ea5e3441-5c96-4e77-8453-766a1639aa8f",
   "metadata": {},
   "outputs": [
    {
     "name": "stdout",
     "output_type": "stream",
     "text": [
      "3\n"
     ]
    }
   ],
   "source": [
    "# 파이썬에서 함수 사용\n",
    "\n",
    "#함수 정의\n",
    "def add(a, b):\n",
    "\treturn a + b\n",
    "\n",
    "#함수 실행\n",
    "c = add(1, 2)\n",
    "print(c)\n"
   ]
  },
  {
   "cell_type": "code",
   "execution_count": 11,
   "id": "9cf2e914-d506-4a71-8eaf-8366a87dccb8",
   "metadata": {},
   "outputs": [
    {
     "name": "stdout",
     "output_type": "stream",
     "text": [
      "3\n"
     ]
    }
   ],
   "source": [
    "#함수 정의\n",
    "def add(a, b):\n",
    "\treturn a + b\n",
    "\n",
    "# 여기서 a와 b 변수는 add()함수의 매개변수와 관련 X\n",
    "a = 1\n",
    "b = 2\n",
    "\n",
    "#함수 실행\n",
    "c = add(a, b)\n",
    "print(c)"
   ]
  },
  {
   "cell_type": "code",
   "execution_count": 27,
   "id": "1312ac56-63ee-4dff-adb0-72c829f5eada",
   "metadata": {},
   "outputs": [
    {
     "name": "stdout",
     "output_type": "stream",
     "text": [
      "hi\n"
     ]
    }
   ],
   "source": [
    "# 파이썬에서 함수의 여러가지 사용\n",
    "# 1. 입력값이 없는 경우\n",
    "\n",
    "def say():\n",
    "\treturn 'hi'\n",
    "\n",
    "a = say()\n",
    "print(a)\n"
   ]
  },
  {
   "cell_type": "code",
   "execution_count": 29,
   "id": "99ac6d1c-c025-4e18-a41a-e0c650291307",
   "metadata": {},
   "outputs": [
    {
     "name": "stdout",
     "output_type": "stream",
     "text": [
      "합: 3\n"
     ]
    }
   ],
   "source": [
    "# 파이썬에서 함수의 여러가지 사용\n",
    "# 2. 리턴값이 없는 경우\n",
    "def add(a, b):\n",
    "\tprint('합:', a + b)\n",
    "\n",
    "#리턴값이 없는 경우는 함수 실행시 받을 값이 없으므로 값을 받는 변수를 사용하지 않습니다.\n",
    "#다만 함수 실행시 함수 내의 print(“합: ”, a  + b) 코드는 실행이 되므로 ‘합: 3’ 이 출력됩니다.\n",
    "\n",
    "add(1, 2)"
   ]
  },
  {
   "cell_type": "code",
   "execution_count": 31,
   "id": "8fc56980-e943-45b8-a99c-298fc543687c",
   "metadata": {},
   "outputs": [
    {
     "name": "stdout",
     "output_type": "stream",
     "text": [
      "hi\n"
     ]
    }
   ],
   "source": [
    "# 파이썬에서 함수의 여러가지 사용\n",
    "# 3. 입력값과 리턴값 둘다 없는 경우\n",
    "\n",
    "def say():\n",
    "\tprint('hi')\n",
    "\n",
    "say()"
   ]
  },
  {
   "cell_type": "markdown",
   "id": "16142d6b-55a4-4a17-8729-29e3995c5b5b",
   "metadata": {},
   "source": [
    "### 2. 매개변수의 다양한 활용과 리턴값"
   ]
  },
  {
   "cell_type": "code",
   "execution_count": 38,
   "id": "0a6b76d6-c06f-4983-86dd-00a5f24fc366",
   "metadata": {},
   "outputs": [
    {
     "name": "stdout",
     "output_type": "stream",
     "text": [
      "4\n",
      "4\n"
     ]
    }
   ],
   "source": [
    "# 인수의 값 지정: 함수를 호출할 때 인수 값 지정 가능\n",
    "def sub(a, b):\n",
    "\treturn a - b\n",
    "\n",
    "result = sub(a=7, b=3)\n",
    "print(result)\n",
    "\n",
    "# 순서를 바꿔도 상관 X\n",
    "result = sub(b=3, a=7)\n",
    "print(result)\n"
   ]
  },
  {
   "cell_type": "code",
   "execution_count": 14,
   "id": "5eda3a3a-20f9-49c2-917f-5998c1416dd6",
   "metadata": {},
   "outputs": [
    {
     "name": "stdout",
     "output_type": "stream",
     "text": [
      "6\n",
      "55\n"
     ]
    }
   ],
   "source": [
    "#매개변수가 몇개가 될지 모르는 경우는?\n",
    "\n",
    "def add_many(*args):\n",
    "    result = 0\n",
    "    for i in args:\n",
    "        result += i\n",
    "    return result\n",
    "\n",
    "a = add_many(1, 2, 3)\n",
    "print(a) \n",
    "\n",
    "a = add_many(1, 2, 3, 4, 5, 6, 7, 8, 9, 10)\n",
    "print(a) "
   ]
  },
  {
   "cell_type": "code",
   "execution_count": 20,
   "id": "902c31e1-2362-4f10-817a-ca75afcf2df1",
   "metadata": {},
   "outputs": [
    {
     "name": "stdout",
     "output_type": "stream",
     "text": [
      "6\n",
      "6\n"
     ]
    }
   ],
   "source": [
    "def add_mul(choice, *args):\n",
    "    if choice == 'add':\n",
    "        result = 0\n",
    "        for i in args:\n",
    "            result += i\n",
    "    elif choice == 'mul':\n",
    "        result = 1\n",
    "        for i in args:\n",
    "            result *= i\n",
    "    return result\n",
    "\n",
    "a = add_mul('add', 1, 2, 3)\n",
    "print(a) \n",
    "\n",
    "a = add_mul('mul', 1, 2, 3)\n",
    "print(a) "
   ]
  },
  {
   "cell_type": "code",
   "execution_count": 22,
   "id": "617f08f8-c8d7-49b8-9f26-680b331e9666",
   "metadata": {},
   "outputs": [
    {
     "name": "stdout",
     "output_type": "stream",
     "text": [
      "{'a': 1}\n",
      "{'name': 'foo', 'age': 3}\n"
     ]
    }
   ],
   "source": [
    "# 키워드 매개변수, kwargs\n",
    "\n",
    "def print_kw(**kw):\n",
    "    print(kw) # 딕셔너리 자료형으로 값을 보여줌\n",
    "\n",
    "print_kw(a=1)\n",
    "print_kw(name='foo', age=3)"
   ]
  },
  {
   "cell_type": "code",
   "execution_count": 32,
   "id": "a39cfea2-1a9f-4980-b565-c452f5be3264",
   "metadata": {},
   "outputs": [
    {
     "name": "stdout",
     "output_type": "stream",
     "text": [
      "(7, 12)\n",
      "7\n",
      "12\n"
     ]
    }
   ],
   "source": [
    "# 함수의 리턴문은 언제나 하나\n",
    "def add_and_mul(a, b):\n",
    "    return a + b, a * b\n",
    "\n",
    "result = add_and_mul(3, 4)\n",
    "print(result) # 결과는 하나의 튜플로 값을 받게 된다\n",
    "\n",
    "#만약에 튜플 값을 2개의 값으로 분리하여 받고 싶다면..\n",
    "result1, result2 = add_and_mul(3, 4)\n",
    "print(result1)\n",
    "print(result2)"
   ]
  },
  {
   "cell_type": "code",
   "execution_count": 34,
   "id": "5177ab25-a316-4eb0-8764-3f95b72c7abf",
   "metadata": {},
   "outputs": [
    {
     "name": "stdout",
     "output_type": "stream",
     "text": [
      "7\n"
     ]
    }
   ],
   "source": [
    "def add_and_mul(a, b):\n",
    "    return a + b\n",
    "    return a * b # 실행되지 않음 -> 함수의 리턴문은 언제나 하나만 사용\n",
    "\n",
    "result = add_and_mul(3, 4)\n",
    "print(result) # 결과는 하나의 튜플로 값을 받게 된다"
   ]
  },
  {
   "cell_type": "code",
   "execution_count": 46,
   "id": "f989054c-a05b-461f-bf21-d1c14c5d60be",
   "metadata": {},
   "outputs": [
    {
     "name": "stdout",
     "output_type": "stream",
     "text": [
      "나의 별명은 바보입니다\n"
     ]
    }
   ],
   "source": [
    "# return문을 만나면 함수는 종료된다\n",
    "\n",
    "def say_nick(nick):\n",
    "    if nick == '파이썬 천재':\n",
    "        return\n",
    "    print(f'나의 별명은 {nick}입니다')\n",
    "\n",
    "\n",
    "say_nick('바보')\n",
    "say_nick('파이썬 천재') "
   ]
  },
  {
   "cell_type": "markdown",
   "id": "3f0f988f-8389-436c-99aa-8e7baee6430f",
   "metadata": {},
   "source": [
    "### 3. 함수의 범위"
   ]
  },
  {
   "cell_type": "code",
   "execution_count": null,
   "id": "46aed29c-5dbc-4a5e-87c2-2e919cd32efc",
   "metadata": {},
   "outputs": [],
   "source": []
  },
  {
   "cell_type": "code",
   "execution_count": null,
   "id": "7743e44c-089a-4cd5-bc58-db27f95714f7",
   "metadata": {},
   "outputs": [],
   "source": []
  },
  {
   "cell_type": "code",
   "execution_count": null,
   "id": "d962bc37-ca7f-4be4-a877-33ecd0e0a407",
   "metadata": {},
   "outputs": [],
   "source": []
  }
 ],
 "metadata": {
  "kernelspec": {
   "display_name": "Python 3 (ipykernel)",
   "language": "python",
   "name": "python3"
  },
  "language_info": {
   "codemirror_mode": {
    "name": "ipython",
    "version": 3
   },
   "file_extension": ".py",
   "mimetype": "text/x-python",
   "name": "python",
   "nbconvert_exporter": "python",
   "pygments_lexer": "ipython3",
   "version": "3.12.4"
  }
 },
 "nbformat": 4,
 "nbformat_minor": 5
}
